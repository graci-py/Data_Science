{
  "nbformat": 4,
  "nbformat_minor": 0,
  "metadata": {
    "colab": {
      "name": "Exploração_Modelos.ipynb",
      "provenance": [],
      "authorship_tag": "ABX9TyNPZ1oOwNDKG0zXo4JOFcC9",
      "include_colab_link": true
    },
    "kernelspec": {
      "name": "python3",
      "display_name": "Python 3"
    },
    "language_info": {
      "name": "python"
    }
  },
  "cells": [
    {
      "cell_type": "markdown",
      "metadata": {
        "id": "view-in-github",
        "colab_type": "text"
      },
      "source": [
        "<a href=\"https://colab.research.google.com/github/graci-py/Data_Science/blob/main/notebook/Explora%C3%A7%C3%A3o_Modelos.ipynb\" target=\"_parent\"><img src=\"https://colab.research.google.com/assets/colab-badge.svg\" alt=\"Open In Colab\"/></a>"
      ]
    },
    {
      "cell_type": "code",
      "execution_count": 1,
      "metadata": {
        "id": "gTojyg2Gp4iU"
      },
      "outputs": [],
      "source": [
        "# importando as bibliotecas\n",
        "import pandas as pd \n",
        "import numpy as np \n",
        "import seaborn as sns\n",
        "import matplotlib.pyplot as plt \n",
        "import xgboost\n",
        "import collections\n",
        "from sklearn.model_selection import train_test_split\n",
        "from sklearn.linear_model import LogisticRegression\n",
        "from sklearn.metrics import confusion_matrix, accuracy_score\n",
        "from sklearn.metrics import precision_recall_fscore_support as score\n",
        "from sklearn.ensemble import RandomForestClassifier\n",
        "from sklearn import metrics\n",
        "from sklearn.model_selection import GridSearchCV\n",
        "from sklearn.neighbors import KNeighborsClassifier\n",
        "from sklearn.model_selection import RepeatedKFold\n",
        "from sklearn.model_selection import cross_val_score,cross_val_predict\n",
        "from sklearn.metrics import classification_report\n",
        "from sklearn.metrics import precision_recall_curve, roc_auc_score, roc_curve, auc\n",
        "from sklearn.metrics import f1_score\n",
        "pd.set_option('display.max_columns', None)"
      ]
    },
    {
      "cell_type": "code",
      "source": [
        "# leitura do df nrows =5\n",
        "url = 'https://raw.githubusercontent.com/allanbraquiel/Stack_Labs_2_Squad_Scikit-Learn/main/datasets/diabetes_binary_5050split_health_indicators_BRFSS2015.csv'\n",
        "df = pd.read_csv(url)\n",
        "df.head()"
      ],
      "metadata": {
        "id": "FlNq4qJKBWYl",
        "outputId": "304e9955-e1e3-4d6a-dada-765877ff87e1",
        "colab": {
          "base_uri": "https://localhost:8080/",
          "height": 270
        }
      },
      "execution_count": 3,
      "outputs": [
        {
          "output_type": "execute_result",
          "data": {
            "text/plain": [
              "   Diabetes_binary  HighBP  HighChol  CholCheck   BMI  Smoker  Stroke  \\\n",
              "0              0.0     1.0       0.0        1.0  26.0     0.0     0.0   \n",
              "1              0.0     1.0       1.0        1.0  26.0     1.0     1.0   \n",
              "2              0.0     0.0       0.0        1.0  26.0     0.0     0.0   \n",
              "3              0.0     1.0       1.0        1.0  28.0     1.0     0.0   \n",
              "4              0.0     0.0       0.0        1.0  29.0     1.0     0.0   \n",
              "\n",
              "   HeartDiseaseorAttack  PhysActivity  Fruits  Veggies  HvyAlcoholConsump  \\\n",
              "0                   0.0           1.0     0.0      1.0                0.0   \n",
              "1                   0.0           0.0     1.0      0.0                0.0   \n",
              "2                   0.0           1.0     1.0      1.0                0.0   \n",
              "3                   0.0           1.0     1.0      1.0                0.0   \n",
              "4                   0.0           1.0     1.0      1.0                0.0   \n",
              "\n",
              "   AnyHealthcare  NoDocbcCost  GenHlth  MentHlth  PhysHlth  DiffWalk  Sex  \\\n",
              "0            1.0          0.0      3.0       5.0      30.0       0.0  1.0   \n",
              "1            1.0          0.0      3.0       0.0       0.0       0.0  1.0   \n",
              "2            1.0          0.0      1.0       0.0      10.0       0.0  1.0   \n",
              "3            1.0          0.0      3.0       0.0       3.0       0.0  1.0   \n",
              "4            1.0          0.0      2.0       0.0       0.0       0.0  0.0   \n",
              "\n",
              "    Age  Education  Income  \n",
              "0   4.0        6.0     8.0  \n",
              "1  12.0        6.0     8.0  \n",
              "2  13.0        6.0     8.0  \n",
              "3  11.0        6.0     8.0  \n",
              "4   8.0        5.0     8.0  "
            ],
            "text/html": [
              "\n",
              "  <div id=\"df-afb6e767-a0ad-4dc8-8512-e5cc343be0f0\">\n",
              "    <div class=\"colab-df-container\">\n",
              "      <div>\n",
              "<style scoped>\n",
              "    .dataframe tbody tr th:only-of-type {\n",
              "        vertical-align: middle;\n",
              "    }\n",
              "\n",
              "    .dataframe tbody tr th {\n",
              "        vertical-align: top;\n",
              "    }\n",
              "\n",
              "    .dataframe thead th {\n",
              "        text-align: right;\n",
              "    }\n",
              "</style>\n",
              "<table border=\"1\" class=\"dataframe\">\n",
              "  <thead>\n",
              "    <tr style=\"text-align: right;\">\n",
              "      <th></th>\n",
              "      <th>Diabetes_binary</th>\n",
              "      <th>HighBP</th>\n",
              "      <th>HighChol</th>\n",
              "      <th>CholCheck</th>\n",
              "      <th>BMI</th>\n",
              "      <th>Smoker</th>\n",
              "      <th>Stroke</th>\n",
              "      <th>HeartDiseaseorAttack</th>\n",
              "      <th>PhysActivity</th>\n",
              "      <th>Fruits</th>\n",
              "      <th>Veggies</th>\n",
              "      <th>HvyAlcoholConsump</th>\n",
              "      <th>AnyHealthcare</th>\n",
              "      <th>NoDocbcCost</th>\n",
              "      <th>GenHlth</th>\n",
              "      <th>MentHlth</th>\n",
              "      <th>PhysHlth</th>\n",
              "      <th>DiffWalk</th>\n",
              "      <th>Sex</th>\n",
              "      <th>Age</th>\n",
              "      <th>Education</th>\n",
              "      <th>Income</th>\n",
              "    </tr>\n",
              "  </thead>\n",
              "  <tbody>\n",
              "    <tr>\n",
              "      <th>0</th>\n",
              "      <td>0.0</td>\n",
              "      <td>1.0</td>\n",
              "      <td>0.0</td>\n",
              "      <td>1.0</td>\n",
              "      <td>26.0</td>\n",
              "      <td>0.0</td>\n",
              "      <td>0.0</td>\n",
              "      <td>0.0</td>\n",
              "      <td>1.0</td>\n",
              "      <td>0.0</td>\n",
              "      <td>1.0</td>\n",
              "      <td>0.0</td>\n",
              "      <td>1.0</td>\n",
              "      <td>0.0</td>\n",
              "      <td>3.0</td>\n",
              "      <td>5.0</td>\n",
              "      <td>30.0</td>\n",
              "      <td>0.0</td>\n",
              "      <td>1.0</td>\n",
              "      <td>4.0</td>\n",
              "      <td>6.0</td>\n",
              "      <td>8.0</td>\n",
              "    </tr>\n",
              "    <tr>\n",
              "      <th>1</th>\n",
              "      <td>0.0</td>\n",
              "      <td>1.0</td>\n",
              "      <td>1.0</td>\n",
              "      <td>1.0</td>\n",
              "      <td>26.0</td>\n",
              "      <td>1.0</td>\n",
              "      <td>1.0</td>\n",
              "      <td>0.0</td>\n",
              "      <td>0.0</td>\n",
              "      <td>1.0</td>\n",
              "      <td>0.0</td>\n",
              "      <td>0.0</td>\n",
              "      <td>1.0</td>\n",
              "      <td>0.0</td>\n",
              "      <td>3.0</td>\n",
              "      <td>0.0</td>\n",
              "      <td>0.0</td>\n",
              "      <td>0.0</td>\n",
              "      <td>1.0</td>\n",
              "      <td>12.0</td>\n",
              "      <td>6.0</td>\n",
              "      <td>8.0</td>\n",
              "    </tr>\n",
              "    <tr>\n",
              "      <th>2</th>\n",
              "      <td>0.0</td>\n",
              "      <td>0.0</td>\n",
              "      <td>0.0</td>\n",
              "      <td>1.0</td>\n",
              "      <td>26.0</td>\n",
              "      <td>0.0</td>\n",
              "      <td>0.0</td>\n",
              "      <td>0.0</td>\n",
              "      <td>1.0</td>\n",
              "      <td>1.0</td>\n",
              "      <td>1.0</td>\n",
              "      <td>0.0</td>\n",
              "      <td>1.0</td>\n",
              "      <td>0.0</td>\n",
              "      <td>1.0</td>\n",
              "      <td>0.0</td>\n",
              "      <td>10.0</td>\n",
              "      <td>0.0</td>\n",
              "      <td>1.0</td>\n",
              "      <td>13.0</td>\n",
              "      <td>6.0</td>\n",
              "      <td>8.0</td>\n",
              "    </tr>\n",
              "    <tr>\n",
              "      <th>3</th>\n",
              "      <td>0.0</td>\n",
              "      <td>1.0</td>\n",
              "      <td>1.0</td>\n",
              "      <td>1.0</td>\n",
              "      <td>28.0</td>\n",
              "      <td>1.0</td>\n",
              "      <td>0.0</td>\n",
              "      <td>0.0</td>\n",
              "      <td>1.0</td>\n",
              "      <td>1.0</td>\n",
              "      <td>1.0</td>\n",
              "      <td>0.0</td>\n",
              "      <td>1.0</td>\n",
              "      <td>0.0</td>\n",
              "      <td>3.0</td>\n",
              "      <td>0.0</td>\n",
              "      <td>3.0</td>\n",
              "      <td>0.0</td>\n",
              "      <td>1.0</td>\n",
              "      <td>11.0</td>\n",
              "      <td>6.0</td>\n",
              "      <td>8.0</td>\n",
              "    </tr>\n",
              "    <tr>\n",
              "      <th>4</th>\n",
              "      <td>0.0</td>\n",
              "      <td>0.0</td>\n",
              "      <td>0.0</td>\n",
              "      <td>1.0</td>\n",
              "      <td>29.0</td>\n",
              "      <td>1.0</td>\n",
              "      <td>0.0</td>\n",
              "      <td>0.0</td>\n",
              "      <td>1.0</td>\n",
              "      <td>1.0</td>\n",
              "      <td>1.0</td>\n",
              "      <td>0.0</td>\n",
              "      <td>1.0</td>\n",
              "      <td>0.0</td>\n",
              "      <td>2.0</td>\n",
              "      <td>0.0</td>\n",
              "      <td>0.0</td>\n",
              "      <td>0.0</td>\n",
              "      <td>0.0</td>\n",
              "      <td>8.0</td>\n",
              "      <td>5.0</td>\n",
              "      <td>8.0</td>\n",
              "    </tr>\n",
              "  </tbody>\n",
              "</table>\n",
              "</div>\n",
              "      <button class=\"colab-df-convert\" onclick=\"convertToInteractive('df-afb6e767-a0ad-4dc8-8512-e5cc343be0f0')\"\n",
              "              title=\"Convert this dataframe to an interactive table.\"\n",
              "              style=\"display:none;\">\n",
              "        \n",
              "  <svg xmlns=\"http://www.w3.org/2000/svg\" height=\"24px\"viewBox=\"0 0 24 24\"\n",
              "       width=\"24px\">\n",
              "    <path d=\"M0 0h24v24H0V0z\" fill=\"none\"/>\n",
              "    <path d=\"M18.56 5.44l.94 2.06.94-2.06 2.06-.94-2.06-.94-.94-2.06-.94 2.06-2.06.94zm-11 1L8.5 8.5l.94-2.06 2.06-.94-2.06-.94L8.5 2.5l-.94 2.06-2.06.94zm10 10l.94 2.06.94-2.06 2.06-.94-2.06-.94-.94-2.06-.94 2.06-2.06.94z\"/><path d=\"M17.41 7.96l-1.37-1.37c-.4-.4-.92-.59-1.43-.59-.52 0-1.04.2-1.43.59L10.3 9.45l-7.72 7.72c-.78.78-.78 2.05 0 2.83L4 21.41c.39.39.9.59 1.41.59.51 0 1.02-.2 1.41-.59l7.78-7.78 2.81-2.81c.8-.78.8-2.07 0-2.86zM5.41 20L4 18.59l7.72-7.72 1.47 1.35L5.41 20z\"/>\n",
              "  </svg>\n",
              "      </button>\n",
              "      \n",
              "  <style>\n",
              "    .colab-df-container {\n",
              "      display:flex;\n",
              "      flex-wrap:wrap;\n",
              "      gap: 12px;\n",
              "    }\n",
              "\n",
              "    .colab-df-convert {\n",
              "      background-color: #E8F0FE;\n",
              "      border: none;\n",
              "      border-radius: 50%;\n",
              "      cursor: pointer;\n",
              "      display: none;\n",
              "      fill: #1967D2;\n",
              "      height: 32px;\n",
              "      padding: 0 0 0 0;\n",
              "      width: 32px;\n",
              "    }\n",
              "\n",
              "    .colab-df-convert:hover {\n",
              "      background-color: #E2EBFA;\n",
              "      box-shadow: 0px 1px 2px rgba(60, 64, 67, 0.3), 0px 1px 3px 1px rgba(60, 64, 67, 0.15);\n",
              "      fill: #174EA6;\n",
              "    }\n",
              "\n",
              "    [theme=dark] .colab-df-convert {\n",
              "      background-color: #3B4455;\n",
              "      fill: #D2E3FC;\n",
              "    }\n",
              "\n",
              "    [theme=dark] .colab-df-convert:hover {\n",
              "      background-color: #434B5C;\n",
              "      box-shadow: 0px 1px 3px 1px rgba(0, 0, 0, 0.15);\n",
              "      filter: drop-shadow(0px 1px 2px rgba(0, 0, 0, 0.3));\n",
              "      fill: #FFFFFF;\n",
              "    }\n",
              "  </style>\n",
              "\n",
              "      <script>\n",
              "        const buttonEl =\n",
              "          document.querySelector('#df-afb6e767-a0ad-4dc8-8512-e5cc343be0f0 button.colab-df-convert');\n",
              "        buttonEl.style.display =\n",
              "          google.colab.kernel.accessAllowed ? 'block' : 'none';\n",
              "\n",
              "        async function convertToInteractive(key) {\n",
              "          const element = document.querySelector('#df-afb6e767-a0ad-4dc8-8512-e5cc343be0f0');\n",
              "          const dataTable =\n",
              "            await google.colab.kernel.invokeFunction('convertToInteractive',\n",
              "                                                     [key], {});\n",
              "          if (!dataTable) return;\n",
              "\n",
              "          const docLinkHtml = 'Like what you see? Visit the ' +\n",
              "            '<a target=\"_blank\" href=https://colab.research.google.com/notebooks/data_table.ipynb>data table notebook</a>'\n",
              "            + ' to learn more about interactive tables.';\n",
              "          element.innerHTML = '';\n",
              "          dataTable['output_type'] = 'display_data';\n",
              "          await google.colab.output.renderOutput(dataTable, element);\n",
              "          const docLink = document.createElement('div');\n",
              "          docLink.innerHTML = docLinkHtml;\n",
              "          element.appendChild(docLink);\n",
              "        }\n",
              "      </script>\n",
              "    </div>\n",
              "  </div>\n",
              "  "
            ]
          },
          "metadata": {},
          "execution_count": 3
        }
      ]
    },
    {
      "cell_type": "code",
      "source": [
        "df.shape"
      ],
      "metadata": {
        "id": "WjqTsX-8CYZ3",
        "outputId": "82c5dcaf-e5ef-4229-c76c-a480ce118177",
        "colab": {
          "base_uri": "https://localhost:8080/"
        }
      },
      "execution_count": 4,
      "outputs": [
        {
          "output_type": "execute_result",
          "data": {
            "text/plain": [
              "(70692, 22)"
            ]
          },
          "metadata": {},
          "execution_count": 4
        }
      ]
    },
    {
      "cell_type": "code",
      "source": [
        "#info\n",
        "df.info()"
      ],
      "metadata": {
        "id": "3w3SD5PECeAW",
        "outputId": "04083044-af15-4353-eb5c-6ab587b6054f",
        "colab": {
          "base_uri": "https://localhost:8080/"
        }
      },
      "execution_count": 5,
      "outputs": [
        {
          "output_type": "stream",
          "name": "stdout",
          "text": [
            "<class 'pandas.core.frame.DataFrame'>\n",
            "RangeIndex: 70692 entries, 0 to 70691\n",
            "Data columns (total 22 columns):\n",
            " #   Column                Non-Null Count  Dtype  \n",
            "---  ------                --------------  -----  \n",
            " 0   Diabetes_binary       70692 non-null  float64\n",
            " 1   HighBP                70692 non-null  float64\n",
            " 2   HighChol              70692 non-null  float64\n",
            " 3   CholCheck             70692 non-null  float64\n",
            " 4   BMI                   70692 non-null  float64\n",
            " 5   Smoker                70692 non-null  float64\n",
            " 6   Stroke                70692 non-null  float64\n",
            " 7   HeartDiseaseorAttack  70692 non-null  float64\n",
            " 8   PhysActivity          70692 non-null  float64\n",
            " 9   Fruits                70692 non-null  float64\n",
            " 10  Veggies               70692 non-null  float64\n",
            " 11  HvyAlcoholConsump     70692 non-null  float64\n",
            " 12  AnyHealthcare         70692 non-null  float64\n",
            " 13  NoDocbcCost           70692 non-null  float64\n",
            " 14  GenHlth               70692 non-null  float64\n",
            " 15  MentHlth              70692 non-null  float64\n",
            " 16  PhysHlth              70692 non-null  float64\n",
            " 17  DiffWalk              70692 non-null  float64\n",
            " 18  Sex                   70692 non-null  float64\n",
            " 19  Age                   70692 non-null  float64\n",
            " 20  Education             70692 non-null  float64\n",
            " 21  Income                70692 non-null  float64\n",
            "dtypes: float64(22)\n",
            "memory usage: 11.9 MB\n"
          ]
        }
      ]
    },
    {
      "cell_type": "code",
      "source": [
        "df.isnull().sum()"
      ],
      "metadata": {
        "id": "u2_6ixZlCkLH",
        "outputId": "1648de22-5229-4422-c789-30bd499b7e32",
        "colab": {
          "base_uri": "https://localhost:8080/"
        }
      },
      "execution_count": 6,
      "outputs": [
        {
          "output_type": "execute_result",
          "data": {
            "text/plain": [
              "Diabetes_binary         0\n",
              "HighBP                  0\n",
              "HighChol                0\n",
              "CholCheck               0\n",
              "BMI                     0\n",
              "Smoker                  0\n",
              "Stroke                  0\n",
              "HeartDiseaseorAttack    0\n",
              "PhysActivity            0\n",
              "Fruits                  0\n",
              "Veggies                 0\n",
              "HvyAlcoholConsump       0\n",
              "AnyHealthcare           0\n",
              "NoDocbcCost             0\n",
              "GenHlth                 0\n",
              "MentHlth                0\n",
              "PhysHlth                0\n",
              "DiffWalk                0\n",
              "Sex                     0\n",
              "Age                     0\n",
              "Education               0\n",
              "Income                  0\n",
              "dtype: int64"
            ]
          },
          "metadata": {},
          "execution_count": 6
        }
      ]
    },
    {
      "cell_type": "code",
      "source": [
        "df.nunique()"
      ],
      "metadata": {
        "id": "8mv4kvhYDA6M",
        "outputId": "d84a171b-4ccd-4e6c-99e1-7ce0ef294998",
        "colab": {
          "base_uri": "https://localhost:8080/"
        }
      },
      "execution_count": 9,
      "outputs": [
        {
          "output_type": "execute_result",
          "data": {
            "text/plain": [
              "Diabetes_binary          2\n",
              "HighBP                   2\n",
              "HighChol                 2\n",
              "CholCheck                2\n",
              "BMI                     80\n",
              "Smoker                   2\n",
              "Stroke                   2\n",
              "HeartDiseaseorAttack     2\n",
              "PhysActivity             2\n",
              "Fruits                   2\n",
              "Veggies                  2\n",
              "HvyAlcoholConsump        2\n",
              "AnyHealthcare            2\n",
              "NoDocbcCost              2\n",
              "GenHlth                  5\n",
              "MentHlth                31\n",
              "PhysHlth                31\n",
              "DiffWalk                 2\n",
              "Sex                      2\n",
              "Age                     13\n",
              "Education                6\n",
              "Income                   8\n",
              "dtype: int64"
            ]
          },
          "metadata": {},
          "execution_count": 9
        }
      ]
    },
    {
      "cell_type": "code",
      "source": [
        "df.Diabetes_binary.value_counts()"
      ],
      "metadata": {
        "id": "iSux3oC1Ct3K",
        "outputId": "e1d2f246-b6f7-4fd5-9b06-7a4eb4e1ff8a",
        "colab": {
          "base_uri": "https://localhost:8080/"
        }
      },
      "execution_count": 7,
      "outputs": [
        {
          "output_type": "execute_result",
          "data": {
            "text/plain": [
              "0.0    35346\n",
              "1.0    35346\n",
              "Name: Diabetes_binary, dtype: int64"
            ]
          },
          "metadata": {},
          "execution_count": 7
        }
      ]
    },
    {
      "cell_type": "code",
      "source": [
        "df.Diabetes_binary.value_counts(normalize = True)"
      ],
      "metadata": {
        "id": "eT22MkHjDMUB",
        "outputId": "d6949008-cbe8-4a42-8adb-7e10b9334c6d",
        "colab": {
          "base_uri": "https://localhost:8080/"
        }
      },
      "execution_count": 10,
      "outputs": [
        {
          "output_type": "execute_result",
          "data": {
            "text/plain": [
              "0.0    0.5\n",
              "1.0    0.5\n",
              "Name: Diabetes_binary, dtype: float64"
            ]
          },
          "metadata": {},
          "execution_count": 10
        }
      ]
    },
    {
      "cell_type": "code",
      "source": [
        "dados = df.rename(columns = {'Diabetes_binary':'Diabetes', \n",
        "                                         'HighBP':'PressAlta',  \n",
        "                                         'HighChol':'CholAlto',\n",
        "                                         'CholCheck':'ColCheck', \n",
        "                                         'BMI':'IMC', \n",
        "                                         'Smoker':'Fumante', \n",
        "                                         'Stroke':'Derrame',\n",
        "                                         'HeartDiseaseorAttack':'CoracaoEnf', \n",
        "                                         'PhysActivity':'AtivFisica', \n",
        "                                         'Fruits':'Frutas',\n",
        "                                         'Veggies':\"Vegetais\", \n",
        "                                         'HvyAlcoholConsump':'ConsAlcool', \n",
        "                                         'AnyHealthcare':'PlSaude',\n",
        "                                         'NoDocbcCost':'DespMedica', \n",
        "                                         'GenHlth':'SdGeral',\n",
        "                                         'MentHlth':'SdMental',\n",
        "                                         'PhysHlth':'SdFisica',\n",
        "                                         'DiffWalk':'DifCaminhar', \n",
        "                                         'Sex':'Sexo',\n",
        "                                         'Age':'Idade',\n",
        "                                         'Education':'Educacao',\n",
        "                                         'Income':'Renda' })"
      ],
      "metadata": {
        "id": "AtX1uYlEDdfc"
      },
      "execution_count": 11,
      "outputs": []
    },
    {
      "cell_type": "code",
      "source": [
        "dados.head()"
      ],
      "metadata": {
        "id": "Krvt5ABGDkq1",
        "outputId": "a3458845-27f5-4351-a861-fd95dcbb0cd1",
        "colab": {
          "base_uri": "https://localhost:8080/",
          "height": 270
        }
      },
      "execution_count": 12,
      "outputs": [
        {
          "output_type": "execute_result",
          "data": {
            "text/plain": [
              "   Diabetes  PressAlta  CholAlto  ColCheck   IMC  Fumante  Derrame  \\\n",
              "0       0.0        1.0       0.0       1.0  26.0      0.0      0.0   \n",
              "1       0.0        1.0       1.0       1.0  26.0      1.0      1.0   \n",
              "2       0.0        0.0       0.0       1.0  26.0      0.0      0.0   \n",
              "3       0.0        1.0       1.0       1.0  28.0      1.0      0.0   \n",
              "4       0.0        0.0       0.0       1.0  29.0      1.0      0.0   \n",
              "\n",
              "   CoracaoEnf  AtivFisica  Frutas  Vegetais  ConsAlcool  PlSaude  DespMedica  \\\n",
              "0         0.0         1.0     0.0       1.0         0.0      1.0         0.0   \n",
              "1         0.0         0.0     1.0       0.0         0.0      1.0         0.0   \n",
              "2         0.0         1.0     1.0       1.0         0.0      1.0         0.0   \n",
              "3         0.0         1.0     1.0       1.0         0.0      1.0         0.0   \n",
              "4         0.0         1.0     1.0       1.0         0.0      1.0         0.0   \n",
              "\n",
              "   SdGeral  SdMental  SdFisica  DifCaminhar  Sexo  Idade  Educacao  Renda  \n",
              "0      3.0       5.0      30.0          0.0   1.0    4.0       6.0    8.0  \n",
              "1      3.0       0.0       0.0          0.0   1.0   12.0       6.0    8.0  \n",
              "2      1.0       0.0      10.0          0.0   1.0   13.0       6.0    8.0  \n",
              "3      3.0       0.0       3.0          0.0   1.0   11.0       6.0    8.0  \n",
              "4      2.0       0.0       0.0          0.0   0.0    8.0       5.0    8.0  "
            ],
            "text/html": [
              "\n",
              "  <div id=\"df-13ecef5a-0ce7-4966-a870-f5564970c16c\">\n",
              "    <div class=\"colab-df-container\">\n",
              "      <div>\n",
              "<style scoped>\n",
              "    .dataframe tbody tr th:only-of-type {\n",
              "        vertical-align: middle;\n",
              "    }\n",
              "\n",
              "    .dataframe tbody tr th {\n",
              "        vertical-align: top;\n",
              "    }\n",
              "\n",
              "    .dataframe thead th {\n",
              "        text-align: right;\n",
              "    }\n",
              "</style>\n",
              "<table border=\"1\" class=\"dataframe\">\n",
              "  <thead>\n",
              "    <tr style=\"text-align: right;\">\n",
              "      <th></th>\n",
              "      <th>Diabetes</th>\n",
              "      <th>PressAlta</th>\n",
              "      <th>CholAlto</th>\n",
              "      <th>ColCheck</th>\n",
              "      <th>IMC</th>\n",
              "      <th>Fumante</th>\n",
              "      <th>Derrame</th>\n",
              "      <th>CoracaoEnf</th>\n",
              "      <th>AtivFisica</th>\n",
              "      <th>Frutas</th>\n",
              "      <th>Vegetais</th>\n",
              "      <th>ConsAlcool</th>\n",
              "      <th>PlSaude</th>\n",
              "      <th>DespMedica</th>\n",
              "      <th>SdGeral</th>\n",
              "      <th>SdMental</th>\n",
              "      <th>SdFisica</th>\n",
              "      <th>DifCaminhar</th>\n",
              "      <th>Sexo</th>\n",
              "      <th>Idade</th>\n",
              "      <th>Educacao</th>\n",
              "      <th>Renda</th>\n",
              "    </tr>\n",
              "  </thead>\n",
              "  <tbody>\n",
              "    <tr>\n",
              "      <th>0</th>\n",
              "      <td>0.0</td>\n",
              "      <td>1.0</td>\n",
              "      <td>0.0</td>\n",
              "      <td>1.0</td>\n",
              "      <td>26.0</td>\n",
              "      <td>0.0</td>\n",
              "      <td>0.0</td>\n",
              "      <td>0.0</td>\n",
              "      <td>1.0</td>\n",
              "      <td>0.0</td>\n",
              "      <td>1.0</td>\n",
              "      <td>0.0</td>\n",
              "      <td>1.0</td>\n",
              "      <td>0.0</td>\n",
              "      <td>3.0</td>\n",
              "      <td>5.0</td>\n",
              "      <td>30.0</td>\n",
              "      <td>0.0</td>\n",
              "      <td>1.0</td>\n",
              "      <td>4.0</td>\n",
              "      <td>6.0</td>\n",
              "      <td>8.0</td>\n",
              "    </tr>\n",
              "    <tr>\n",
              "      <th>1</th>\n",
              "      <td>0.0</td>\n",
              "      <td>1.0</td>\n",
              "      <td>1.0</td>\n",
              "      <td>1.0</td>\n",
              "      <td>26.0</td>\n",
              "      <td>1.0</td>\n",
              "      <td>1.0</td>\n",
              "      <td>0.0</td>\n",
              "      <td>0.0</td>\n",
              "      <td>1.0</td>\n",
              "      <td>0.0</td>\n",
              "      <td>0.0</td>\n",
              "      <td>1.0</td>\n",
              "      <td>0.0</td>\n",
              "      <td>3.0</td>\n",
              "      <td>0.0</td>\n",
              "      <td>0.0</td>\n",
              "      <td>0.0</td>\n",
              "      <td>1.0</td>\n",
              "      <td>12.0</td>\n",
              "      <td>6.0</td>\n",
              "      <td>8.0</td>\n",
              "    </tr>\n",
              "    <tr>\n",
              "      <th>2</th>\n",
              "      <td>0.0</td>\n",
              "      <td>0.0</td>\n",
              "      <td>0.0</td>\n",
              "      <td>1.0</td>\n",
              "      <td>26.0</td>\n",
              "      <td>0.0</td>\n",
              "      <td>0.0</td>\n",
              "      <td>0.0</td>\n",
              "      <td>1.0</td>\n",
              "      <td>1.0</td>\n",
              "      <td>1.0</td>\n",
              "      <td>0.0</td>\n",
              "      <td>1.0</td>\n",
              "      <td>0.0</td>\n",
              "      <td>1.0</td>\n",
              "      <td>0.0</td>\n",
              "      <td>10.0</td>\n",
              "      <td>0.0</td>\n",
              "      <td>1.0</td>\n",
              "      <td>13.0</td>\n",
              "      <td>6.0</td>\n",
              "      <td>8.0</td>\n",
              "    </tr>\n",
              "    <tr>\n",
              "      <th>3</th>\n",
              "      <td>0.0</td>\n",
              "      <td>1.0</td>\n",
              "      <td>1.0</td>\n",
              "      <td>1.0</td>\n",
              "      <td>28.0</td>\n",
              "      <td>1.0</td>\n",
              "      <td>0.0</td>\n",
              "      <td>0.0</td>\n",
              "      <td>1.0</td>\n",
              "      <td>1.0</td>\n",
              "      <td>1.0</td>\n",
              "      <td>0.0</td>\n",
              "      <td>1.0</td>\n",
              "      <td>0.0</td>\n",
              "      <td>3.0</td>\n",
              "      <td>0.0</td>\n",
              "      <td>3.0</td>\n",
              "      <td>0.0</td>\n",
              "      <td>1.0</td>\n",
              "      <td>11.0</td>\n",
              "      <td>6.0</td>\n",
              "      <td>8.0</td>\n",
              "    </tr>\n",
              "    <tr>\n",
              "      <th>4</th>\n",
              "      <td>0.0</td>\n",
              "      <td>0.0</td>\n",
              "      <td>0.0</td>\n",
              "      <td>1.0</td>\n",
              "      <td>29.0</td>\n",
              "      <td>1.0</td>\n",
              "      <td>0.0</td>\n",
              "      <td>0.0</td>\n",
              "      <td>1.0</td>\n",
              "      <td>1.0</td>\n",
              "      <td>1.0</td>\n",
              "      <td>0.0</td>\n",
              "      <td>1.0</td>\n",
              "      <td>0.0</td>\n",
              "      <td>2.0</td>\n",
              "      <td>0.0</td>\n",
              "      <td>0.0</td>\n",
              "      <td>0.0</td>\n",
              "      <td>0.0</td>\n",
              "      <td>8.0</td>\n",
              "      <td>5.0</td>\n",
              "      <td>8.0</td>\n",
              "    </tr>\n",
              "  </tbody>\n",
              "</table>\n",
              "</div>\n",
              "      <button class=\"colab-df-convert\" onclick=\"convertToInteractive('df-13ecef5a-0ce7-4966-a870-f5564970c16c')\"\n",
              "              title=\"Convert this dataframe to an interactive table.\"\n",
              "              style=\"display:none;\">\n",
              "        \n",
              "  <svg xmlns=\"http://www.w3.org/2000/svg\" height=\"24px\"viewBox=\"0 0 24 24\"\n",
              "       width=\"24px\">\n",
              "    <path d=\"M0 0h24v24H0V0z\" fill=\"none\"/>\n",
              "    <path d=\"M18.56 5.44l.94 2.06.94-2.06 2.06-.94-2.06-.94-.94-2.06-.94 2.06-2.06.94zm-11 1L8.5 8.5l.94-2.06 2.06-.94-2.06-.94L8.5 2.5l-.94 2.06-2.06.94zm10 10l.94 2.06.94-2.06 2.06-.94-2.06-.94-.94-2.06-.94 2.06-2.06.94z\"/><path d=\"M17.41 7.96l-1.37-1.37c-.4-.4-.92-.59-1.43-.59-.52 0-1.04.2-1.43.59L10.3 9.45l-7.72 7.72c-.78.78-.78 2.05 0 2.83L4 21.41c.39.39.9.59 1.41.59.51 0 1.02-.2 1.41-.59l7.78-7.78 2.81-2.81c.8-.78.8-2.07 0-2.86zM5.41 20L4 18.59l7.72-7.72 1.47 1.35L5.41 20z\"/>\n",
              "  </svg>\n",
              "      </button>\n",
              "      \n",
              "  <style>\n",
              "    .colab-df-container {\n",
              "      display:flex;\n",
              "      flex-wrap:wrap;\n",
              "      gap: 12px;\n",
              "    }\n",
              "\n",
              "    .colab-df-convert {\n",
              "      background-color: #E8F0FE;\n",
              "      border: none;\n",
              "      border-radius: 50%;\n",
              "      cursor: pointer;\n",
              "      display: none;\n",
              "      fill: #1967D2;\n",
              "      height: 32px;\n",
              "      padding: 0 0 0 0;\n",
              "      width: 32px;\n",
              "    }\n",
              "\n",
              "    .colab-df-convert:hover {\n",
              "      background-color: #E2EBFA;\n",
              "      box-shadow: 0px 1px 2px rgba(60, 64, 67, 0.3), 0px 1px 3px 1px rgba(60, 64, 67, 0.15);\n",
              "      fill: #174EA6;\n",
              "    }\n",
              "\n",
              "    [theme=dark] .colab-df-convert {\n",
              "      background-color: #3B4455;\n",
              "      fill: #D2E3FC;\n",
              "    }\n",
              "\n",
              "    [theme=dark] .colab-df-convert:hover {\n",
              "      background-color: #434B5C;\n",
              "      box-shadow: 0px 1px 3px 1px rgba(0, 0, 0, 0.15);\n",
              "      filter: drop-shadow(0px 1px 2px rgba(0, 0, 0, 0.3));\n",
              "      fill: #FFFFFF;\n",
              "    }\n",
              "  </style>\n",
              "\n",
              "      <script>\n",
              "        const buttonEl =\n",
              "          document.querySelector('#df-13ecef5a-0ce7-4966-a870-f5564970c16c button.colab-df-convert');\n",
              "        buttonEl.style.display =\n",
              "          google.colab.kernel.accessAllowed ? 'block' : 'none';\n",
              "\n",
              "        async function convertToInteractive(key) {\n",
              "          const element = document.querySelector('#df-13ecef5a-0ce7-4966-a870-f5564970c16c');\n",
              "          const dataTable =\n",
              "            await google.colab.kernel.invokeFunction('convertToInteractive',\n",
              "                                                     [key], {});\n",
              "          if (!dataTable) return;\n",
              "\n",
              "          const docLinkHtml = 'Like what you see? Visit the ' +\n",
              "            '<a target=\"_blank\" href=https://colab.research.google.com/notebooks/data_table.ipynb>data table notebook</a>'\n",
              "            + ' to learn more about interactive tables.';\n",
              "          element.innerHTML = '';\n",
              "          dataTable['output_type'] = 'display_data';\n",
              "          await google.colab.output.renderOutput(dataTable, element);\n",
              "          const docLink = document.createElement('div');\n",
              "          docLink.innerHTML = docLinkHtml;\n",
              "          element.appendChild(docLink);\n",
              "        }\n",
              "      </script>\n",
              "    </div>\n",
              "  </div>\n",
              "  "
            ]
          },
          "metadata": {},
          "execution_count": 12
        }
      ]
    },
    {
      "cell_type": "markdown",
      "source": [
        "#Realizando a divisão dos Dados"
      ],
      "metadata": {
        "id": "C60bAZA1HO0e"
      }
    },
    {
      "cell_type": "code",
      "source": [
        "# Separando a variável resposta\n",
        "X = dados.drop(['Diabetes'], axis=1)\n",
        "y = dados['Diabetes']"
      ],
      "metadata": {
        "id": "-2jwuB4bDpQ9"
      },
      "execution_count": 13,
      "outputs": []
    },
    {
      "cell_type": "code",
      "source": [
        "X.info()"
      ],
      "metadata": {
        "id": "0iaBPftYIgii",
        "outputId": "9e759c24-6713-4940-c2f7-f5afb1f4c1ff",
        "colab": {
          "base_uri": "https://localhost:8080/"
        }
      },
      "execution_count": 24,
      "outputs": [
        {
          "output_type": "stream",
          "name": "stdout",
          "text": [
            "<class 'pandas.core.frame.DataFrame'>\n",
            "RangeIndex: 70692 entries, 0 to 70691\n",
            "Data columns (total 21 columns):\n",
            " #   Column       Non-Null Count  Dtype  \n",
            "---  ------       --------------  -----  \n",
            " 0   PressAlta    70692 non-null  float64\n",
            " 1   CholAlto     70692 non-null  float64\n",
            " 2   ColCheck     70692 non-null  float64\n",
            " 3   IMC          70692 non-null  float64\n",
            " 4   Fumante      70692 non-null  float64\n",
            " 5   Derrame      70692 non-null  float64\n",
            " 6   CoracaoEnf   70692 non-null  float64\n",
            " 7   AtivFisica   70692 non-null  float64\n",
            " 8   Frutas       70692 non-null  float64\n",
            " 9   Vegetais     70692 non-null  float64\n",
            " 10  ConsAlcool   70692 non-null  float64\n",
            " 11  PlSaude      70692 non-null  float64\n",
            " 12  DespMedica   70692 non-null  float64\n",
            " 13  SdGeral      70692 non-null  float64\n",
            " 14  SdMental     70692 non-null  float64\n",
            " 15  SdFisica     70692 non-null  float64\n",
            " 16  DifCaminhar  70692 non-null  float64\n",
            " 17  Sexo         70692 non-null  float64\n",
            " 18  Idade        70692 non-null  float64\n",
            " 19  Educacao     70692 non-null  float64\n",
            " 20  Renda        70692 non-null  float64\n",
            "dtypes: float64(21)\n",
            "memory usage: 11.3 MB\n"
          ]
        }
      ]
    },
    {
      "cell_type": "code",
      "source": [
        "# dividir o dataset entre treino e teste \n",
        "X_train, X_test, y_train, y_test = train_test_split(X, y, test_size=0.3)"
      ],
      "metadata": {
        "id": "beKeGxWpEetH"
      },
      "execution_count": 17,
      "outputs": []
    },
    {
      "cell_type": "markdown",
      "source": [
        "#Regressão Logística"
      ],
      "metadata": {
        "id": "d2HmY7-2HUy7"
      }
    },
    {
      "cell_type": "code",
      "source": [
        "# Criando o modelo\n",
        "classifier = LogisticRegression(max_iter= 5000)\n",
        "classifier.fit(X_train, y_train)\n",
        "y_pred = classifier.predict(X_test)"
      ],
      "metadata": {
        "id": "IWPhb1IvEgYi"
      },
      "execution_count": 18,
      "outputs": []
    },
    {
      "cell_type": "code",
      "source": [
        "# Exibindo os resultados da classificação\n",
        "cf_matrix = confusion_matrix(y_test, y_pred)\n",
        "sns.heatmap(cf_matrix, annot=True, fmt='.0f', cmap=\"PuRd\")\n",
        "plt.show()\n",
        "from sklearn.metrics import classification_report\n",
        "ac = accuracy_score(y_test,y_pred)*100\n",
        "print('Acurácia: ',ac)\n",
        "print(classification_report(y_test,y_pred, \n",
        "                            target_names = ['Tem Diabete(1)','Não Tem Diabete(0)']))"
      ],
      "metadata": {
        "id": "DCz0TCLfFeTS",
        "outputId": "67ebc2d1-2536-4585-bacc-45ff9f0a7bef",
        "colab": {
          "base_uri": "https://localhost:8080/",
          "height": 439
        }
      },
      "execution_count": 20,
      "outputs": [
        {
          "output_type": "display_data",
          "data": {
            "text/plain": [
              "<Figure size 432x288 with 2 Axes>"
            ],
            "image/png": "[encoded data removed]"
          },
          "metadata": {
            "needs_background": "light"
          }
        },
        {
          "output_type": "stream",
          "name": "stdout",
          "text": [
            "Acurácia:  74.622783855149\n",
            "                    precision    recall  f1-score   support\n",
            "\n",
            "    Tem Diabete(1)       0.76      0.72      0.74     10596\n",
            "Não Tem Diabete(0)       0.74      0.77      0.75     10612\n",
            "\n",
            "          accuracy                           0.75     21208\n",
            "         macro avg       0.75      0.75      0.75     21208\n",
            "      weighted avg       0.75      0.75      0.75     21208\n",
            "\n"
          ]
        }
      ]
    },
    {
      "cell_type": "markdown",
      "source": [
        "#Random Forest"
      ],
      "metadata": {
        "id": "q0QWjMdWHlzL"
      }
    },
    {
      "cell_type": "code",
      "source": [
        "# Definindo parâmetros para o modelo\n",
        "params = {'max_leaf_nodes': [2,4,8,16,32,64,128], 'min_samples_split':[2,3,4]}\n",
        "grid_search_cv = GridSearchCV(RandomForestClassifier(n_estimators=500, random_state=42), params, verbose=1, cv=3, scoring='roc_auc')\n",
        "grid_search_cv.fit(X_train, y_train)"
      ],
      "metadata": {
        "id": "0DNpk7i-GEDS",
        "outputId": "4aa0efec-1a43-45ba-b05b-3367a70c45b0",
        "colab": {
          "base_uri": "https://localhost:8080/"
        }
      },
      "execution_count": 21,
      "outputs": [
        {
          "output_type": "stream",
          "name": "stdout",
          "text": [
            "Fitting 3 folds for each of 21 candidates, totalling 63 fits\n"
          ]
        },
        {
          "output_type": "execute_result",
          "data": {
            "text/plain": [
              "GridSearchCV(cv=3,\n",
              "             estimator=RandomForestClassifier(n_estimators=500,\n",
              "                                              random_state=42),\n",
              "             param_grid={'max_leaf_nodes': [2, 4, 8, 16, 32, 64, 128],\n",
              "                         'min_samples_split': [2, 3, 4]},\n",
              "             scoring='roc_auc', verbose=1)"
            ]
          },
          "metadata": {},
          "execution_count": 21
        }
      ]
    },
    {
      "cell_type": "code",
      "source": [
        "# Criação do modelo\n",
        "clf = RandomForestClassifier(random_state=42, n_estimators=500,**grid_search_cv.best_params_)\n",
        "clf = clf.fit(X_train, y_train)\n",
        "y_pred = clf.predict(X_test)"
      ],
      "metadata": {
        "id": "qa-Tj1nFGOwv"
      },
      "execution_count": 22,
      "outputs": []
    },
    {
      "cell_type": "code",
      "source": [
        "# Exibindo os resultados da classificação\n",
        "cf_matrix = confusion_matrix(y_test, y_pred)\n",
        "sns.heatmap(cf_matrix, annot=True, fmt='.0f', cmap=\"PuRd\")\n",
        "plt.show()\n",
        "from sklearn.metrics import classification_report\n",
        "ac = accuracy_score(y_test,y_pred)*100\n",
        "print('Acurácia: ',ac)\n",
        "print(classification_report(y_test,y_pred, \n",
        "                            target_names = ['Tem Diabete(1)','Não tem diabete (0)']))"
      ],
      "metadata": {
        "id": "zwThgbWrGTof",
        "outputId": "636e19e1-0052-4bfd-f14e-ef9c811fdc1d",
        "colab": {
          "base_uri": "https://localhost:8080/",
          "height": 439
        }
      },
      "execution_count": 23,
      "outputs": [
        {
          "output_type": "display_data",
          "data": {
            "text/plain": [
              "<Figure size 432x288 with 2 Axes>"
            ],
            "image/png": "[encoded data removed]"
          },
          "metadata": {
            "needs_background": "light"
          }
        },
        {
          "output_type": "stream",
          "name": "stdout",
          "text": [
            "Acurácia:  74.9245567710298\n",
            "                     precision    recall  f1-score   support\n",
            "\n",
            "     Tem Diabete(1)       0.78      0.70      0.74     10596\n",
            "Não tem diabete (0)       0.73      0.80      0.76     10612\n",
            "\n",
            "           accuracy                           0.75     21208\n",
            "          macro avg       0.75      0.75      0.75     21208\n",
            "       weighted avg       0.75      0.75      0.75     21208\n",
            "\n"
          ]
        }
      ]
    },
    {
      "cell_type": "markdown",
      "source": [
        "#KNN"
      ],
      "metadata": {
        "id": "uPUSdOqfHwhm"
      }
    },
    {
      "cell_type": "code",
      "source": [
        "# Criando o modelo\n",
        "for i in range(1,21):\n",
        "    neigh = KNeighborsClassifier(n_neighbors=i)\n",
        "    cv = RepeatedKFold(n_splits=10, n_repeats=10, random_state=42)\n",
        "    scores = cross_val_score(neigh, X_test, y_test, scoring='accuracy', cv=cv)\n",
        "    print('k=%d : %.3f' % (i, (np.mean(scores))))\n",
        "y_pred = cross_val_predict(neigh, X_test, y_test, cv=10)"
      ],
      "metadata": {
        "id": "-9SKxpqbHxmg",
        "outputId": "7c990f83-da7e-4d4d-c80e-88718893ab6f",
        "colab": {
          "base_uri": "https://localhost:8080/"
        }
      },
      "execution_count": null,
      "outputs": [
        {
          "output_type": "stream",
          "name": "stdout",
          "text": [
            "k=1 : 0.648\n",
            "k=2 : 0.630\n",
            "k=3 : 0.681\n",
            "k=4 : 0.672\n",
            "k=5 : 0.695\n",
            "k=6 : 0.688\n",
            "k=7 : 0.702\n",
            "k=8 : 0.699\n",
            "k=9 : 0.708\n",
            "k=10 : 0.705\n",
            "k=11 : 0.712\n"
          ]
        }
      ]
    },
    {
      "cell_type": "code",
      "source": [
        "# Exibindo os resultados da classificação\n",
        "cf_matrix = confusion_matrix(y_test, y_pred)\n",
        "sns.heatmap(cf_matrix, annot=True, fmt='.0f', cmap=\"PuRd\")\n",
        "plt.show()\n",
        "ac = accuracy_score(y_test,y_pred)*100\n",
        "print('Acurácia: ',ac)\n",
        "print(classification_report(y_test,y_pred, \n",
        "                            target_names = ['Tem Diabete(1)','Não Tem diabete (0)']))"
      ],
      "metadata": {
        "id": "FYjIZQeUH8TA"
      },
      "execution_count": null,
      "outputs": []
    },
    {
      "cell_type": "markdown",
      "source": [
        "#XG BOOST"
      ],
      "metadata": {
        "id": "Khr_O_wEKOcJ"
      }
    },
    {
      "cell_type": "code",
      "source": [
        "# Criação do modelo\n",
        "xgb = xgboost.XGBClassifier(earning_rate=0.009, n_estimators=350, subsample=0.8, max_depth=7)\n",
        "xgb.fit(X_train,y_train)\n",
        "y_pred = xgb.predict(X_test)"
      ],
      "metadata": {
        "id": "oLA80v4NKT-J"
      },
      "execution_count": null,
      "outputs": []
    },
    {
      "cell_type": "code",
      "source": [
        "# Exibindo os resultados da classificação\n",
        "cf_matrix = confusion_matrix(y_test, y_pred)\n",
        "sns.heatmap(cf_matrix, annot=True, fmt='.0f', cmap=\"PuRd\")\n",
        "plt.show()\n",
        "from sklearn.metrics import classification_report\n",
        "ac = accuracy_score(y_test,y_pred)*100\n",
        "print('Acurácia: ',ac)\n",
        "print(classification_report(y_test,y_pred, \n",
        "                            target_names = ['Tem Diabete(1)','Não Tem diabete (0)']))"
      ],
      "metadata": {
        "id": "36XYjB3yKkAB"
      },
      "execution_count": null,
      "outputs": []
    }
  ]
}